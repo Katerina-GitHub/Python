{
 "cells": [
  {
   "cell_type": "markdown",
   "metadata": {
    "id": "PViXfvQTeU-f"
   },
   "source": [
    "# Чтение и предварительный просмотр данных"
   ]
  },
  {
   "cell_type": "markdown",
   "metadata": {
    "id": "b1oKxTdReZa8"
   },
   "source": [
    "Библиотека **pandas** может читать многие форматы, включая: **.csv, .xslx, .xls, .txt, sql** и многие другие.\n",
    "\n",
    "Полный список по [ссылке](https://pandas.pydata.org/pandas-docs/stable/user_guide/io.html)"
   ]
  },
  {
   "cell_type": "code",
   "execution_count": 2,
   "metadata": {
    "id": "-e37LxEUYyuF"
   },
   "outputs": [
    {
     "ename": "NameError",
     "evalue": "name 'pd' is not defined",
     "output_type": "error",
     "traceback": [
      "\u001b[1;31m---------------------------------------------------------------------------\u001b[0m",
      "\u001b[1;31mNameError\u001b[0m                                 Traceback (most recent call last)",
      "Cell \u001b[1;32mIn[2], line 2\u001b[0m\n\u001b[0;32m      1\u001b[0m \u001b[39m# Прочтем файл .csv с помощью библиотеки pandas\u001b[39;00m\n\u001b[1;32m----> 2\u001b[0m df \u001b[39m=\u001b[39m pd\u001b[39m.\u001b[39mread_csv(\u001b[39m'\u001b[39m\u001b[39mcalifornia_housing_train.csv\u001b[39m\u001b[39m'\u001b[39m)\n",
      "\u001b[1;31mNameError\u001b[0m: name 'pd' is not defined"
     ]
    }
   ],
   "source": [
    "# Прочтем файл .csv с помощью библиотеки pandas\n",
    "import pandas as pd\n",
    "\n",
    "df = pd.read_csv('california_housing_train.csv')"
   ]
  },
  {
   "cell_type": "code",
   "execution_count": 1,
   "metadata": {},
   "outputs": [
    {
     "name": "stdout",
     "output_type": "stream",
     "text": [
      "hello world\n"
     ]
    }
   ],
   "source": [
    "print('hello world')"
   ]
  },
  {
   "cell_type": "code",
   "execution_count": 5,
   "metadata": {},
   "outputs": [],
   "source": [
    "import pandas as pd"
   ]
  },
  {
   "cell_type": "markdown",
   "metadata": {
    "id": "dqNL_danc3w_"
   },
   "source": [
    "\n",
    "```\n",
    "DataFrame.head(n=5)\n",
    "Параметры:\n",
    "n: int, значение по умолчанию 5\n",
    "```\n",
    "\n"
   ]
  },
  {
   "cell_type": "code",
   "execution_count": null,
   "metadata": {
    "colab": {
     "base_uri": "https://localhost:8080/",
     "height": 206
    },
    "id": "hKyoqeTmZJDx",
    "outputId": "414830ce-7e4f-4a14-f69d-e8bc58297a8a"
   },
   "outputs": [
    {
     "data": {
      "text/html": [
       "<div>\n",
       "<style scoped>\n",
       "    .dataframe tbody tr th:only-of-type {\n",
       "        vertical-align: middle;\n",
       "    }\n",
       "\n",
       "    .dataframe tbody tr th {\n",
       "        vertical-align: top;\n",
       "    }\n",
       "\n",
       "    .dataframe thead th {\n",
       "        text-align: right;\n",
       "    }\n",
       "</style>\n",
       "<table border=\"1\" class=\"dataframe\">\n",
       "  <thead>\n",
       "    <tr style=\"text-align: right;\">\n",
       "      <th></th>\n",
       "      <th>longitude</th>\n",
       "      <th>latitude</th>\n",
       "      <th>housingMedianAge</th>\n",
       "      <th>totalRooms</th>\n",
       "      <th>totalBedrooms</th>\n",
       "      <th>population</th>\n",
       "      <th>households</th>\n",
       "      <th>medianIncome</th>\n",
       "      <th>medianHouseValue</th>\n",
       "    </tr>\n",
       "  </thead>\n",
       "  <tbody>\n",
       "    <tr>\n",
       "      <th>0</th>\n",
       "      <td>-114.31</td>\n",
       "      <td>34.19</td>\n",
       "      <td>15</td>\n",
       "      <td>5612</td>\n",
       "      <td>1283</td>\n",
       "      <td>1015</td>\n",
       "      <td>472</td>\n",
       "      <td>1.4936</td>\n",
       "      <td>66900</td>\n",
       "    </tr>\n",
       "    <tr>\n",
       "      <th>1</th>\n",
       "      <td>-114.47</td>\n",
       "      <td>34.40</td>\n",
       "      <td>19</td>\n",
       "      <td>7650</td>\n",
       "      <td>1901</td>\n",
       "      <td>1129</td>\n",
       "      <td>463</td>\n",
       "      <td>1.8200</td>\n",
       "      <td>80100</td>\n",
       "    </tr>\n",
       "    <tr>\n",
       "      <th>2</th>\n",
       "      <td>-114.56</td>\n",
       "      <td>33.69</td>\n",
       "      <td>17</td>\n",
       "      <td>720</td>\n",
       "      <td>174</td>\n",
       "      <td>333</td>\n",
       "      <td>117</td>\n",
       "      <td>1.6509</td>\n",
       "      <td>85700</td>\n",
       "    </tr>\n",
       "    <tr>\n",
       "      <th>3</th>\n",
       "      <td>-114.57</td>\n",
       "      <td>33.64</td>\n",
       "      <td>14</td>\n",
       "      <td>1501</td>\n",
       "      <td>337</td>\n",
       "      <td>515</td>\n",
       "      <td>226</td>\n",
       "      <td>3.1917</td>\n",
       "      <td>73400</td>\n",
       "    </tr>\n",
       "    <tr>\n",
       "      <th>4</th>\n",
       "      <td>-114.57</td>\n",
       "      <td>33.57</td>\n",
       "      <td>20</td>\n",
       "      <td>1454</td>\n",
       "      <td>326</td>\n",
       "      <td>624</td>\n",
       "      <td>262</td>\n",
       "      <td>1.9250</td>\n",
       "      <td>65500</td>\n",
       "    </tr>\n",
       "  </tbody>\n",
       "</table>\n",
       "</div>"
      ],
      "text/plain": [
       "   longitude  latitude  housingMedianAge  totalRooms  totalBedrooms  \\\n",
       "0    -114.31     34.19                15        5612           1283   \n",
       "1    -114.47     34.40                19        7650           1901   \n",
       "2    -114.56     33.69                17         720            174   \n",
       "3    -114.57     33.64                14        1501            337   \n",
       "4    -114.57     33.57                20        1454            326   \n",
       "\n",
       "   population  households  medianIncome  medianHouseValue  \n",
       "0        1015         472        1.4936             66900  \n",
       "1        1129         463        1.8200             80100  \n",
       "2         333         117        1.6509             85700  \n",
       "3         515         226        3.1917             73400  \n",
       "4         624         262        1.9250             65500  "
      ]
     },
     "execution_count": 45,
     "metadata": {},
     "output_type": "execute_result"
    }
   ],
   "source": [
    "# Посмотреть первые 5 строк \n",
    "df.head()"
   ]
  },
  {
   "cell_type": "markdown",
   "metadata": {
    "id": "z4vZfyaOdL1F"
   },
   "source": [
    "\n",
    "\n",
    "```\n",
    "DataFrame.tail(n=5)\n",
    "Параметры:\n",
    "n: int, значение по умолчнию 5\n",
    "```\n",
    "\n"
   ]
  },
  {
   "cell_type": "code",
   "execution_count": null,
   "metadata": {
    "colab": {
     "base_uri": "https://localhost:8080/",
     "height": 206
    },
    "id": "4w1GEyEdaYBJ",
    "outputId": "a1a891f1-653f-4eae-f96c-d7aac2a31fb7"
   },
   "outputs": [
    {
     "data": {
      "text/html": [
       "<div>\n",
       "<style scoped>\n",
       "    .dataframe tbody tr th:only-of-type {\n",
       "        vertical-align: middle;\n",
       "    }\n",
       "\n",
       "    .dataframe tbody tr th {\n",
       "        vertical-align: top;\n",
       "    }\n",
       "\n",
       "    .dataframe thead th {\n",
       "        text-align: right;\n",
       "    }\n",
       "</style>\n",
       "<table border=\"1\" class=\"dataframe\">\n",
       "  <thead>\n",
       "    <tr style=\"text-align: right;\">\n",
       "      <th></th>\n",
       "      <th>longitude</th>\n",
       "      <th>latitude</th>\n",
       "      <th>housingMedianAge</th>\n",
       "      <th>totalRooms</th>\n",
       "      <th>totalBedrooms</th>\n",
       "      <th>population</th>\n",
       "      <th>households</th>\n",
       "      <th>medianIncome</th>\n",
       "      <th>medianHouseValue</th>\n",
       "    </tr>\n",
       "  </thead>\n",
       "  <tbody>\n",
       "    <tr>\n",
       "      <th>16995</th>\n",
       "      <td>-124.26</td>\n",
       "      <td>40.58</td>\n",
       "      <td>52</td>\n",
       "      <td>2217</td>\n",
       "      <td>394</td>\n",
       "      <td>907</td>\n",
       "      <td>369</td>\n",
       "      <td>2.3571</td>\n",
       "      <td>111400</td>\n",
       "    </tr>\n",
       "    <tr>\n",
       "      <th>16996</th>\n",
       "      <td>-124.27</td>\n",
       "      <td>40.69</td>\n",
       "      <td>36</td>\n",
       "      <td>2349</td>\n",
       "      <td>528</td>\n",
       "      <td>1194</td>\n",
       "      <td>465</td>\n",
       "      <td>2.5179</td>\n",
       "      <td>79000</td>\n",
       "    </tr>\n",
       "    <tr>\n",
       "      <th>16997</th>\n",
       "      <td>-124.30</td>\n",
       "      <td>41.84</td>\n",
       "      <td>17</td>\n",
       "      <td>2677</td>\n",
       "      <td>531</td>\n",
       "      <td>1244</td>\n",
       "      <td>456</td>\n",
       "      <td>3.0313</td>\n",
       "      <td>103600</td>\n",
       "    </tr>\n",
       "    <tr>\n",
       "      <th>16998</th>\n",
       "      <td>-124.30</td>\n",
       "      <td>41.80</td>\n",
       "      <td>19</td>\n",
       "      <td>2672</td>\n",
       "      <td>552</td>\n",
       "      <td>1298</td>\n",
       "      <td>478</td>\n",
       "      <td>1.9797</td>\n",
       "      <td>85800</td>\n",
       "    </tr>\n",
       "    <tr>\n",
       "      <th>16999</th>\n",
       "      <td>-124.35</td>\n",
       "      <td>40.54</td>\n",
       "      <td>52</td>\n",
       "      <td>1820</td>\n",
       "      <td>300</td>\n",
       "      <td>806</td>\n",
       "      <td>270</td>\n",
       "      <td>3.0147</td>\n",
       "      <td>94600</td>\n",
       "    </tr>\n",
       "  </tbody>\n",
       "</table>\n",
       "</div>"
      ],
      "text/plain": [
       "       longitude  latitude  housingMedianAge  totalRooms  totalBedrooms  \\\n",
       "16995    -124.26     40.58                52        2217            394   \n",
       "16996    -124.27     40.69                36        2349            528   \n",
       "16997    -124.30     41.84                17        2677            531   \n",
       "16998    -124.30     41.80                19        2672            552   \n",
       "16999    -124.35     40.54                52        1820            300   \n",
       "\n",
       "       population  households  medianIncome  medianHouseValue  \n",
       "16995         907         369        2.3571            111400  \n",
       "16996        1194         465        2.5179             79000  \n",
       "16997        1244         456        3.0313            103600  \n",
       "16998        1298         478        1.9797             85800  \n",
       "16999         806         270        3.0147             94600  "
      ]
     },
     "execution_count": 31,
     "metadata": {},
     "output_type": "execute_result"
    }
   ],
   "source": [
    "# Посмотреть последние 5 строк\n",
    "df.tail()"
   ]
  },
  {
   "cell_type": "code",
   "execution_count": null,
   "metadata": {
    "colab": {
     "base_uri": "https://localhost:8080/"
    },
    "id": "umkBzt2xahSz",
    "outputId": "a4fe3ae9-e1fe-481b-e76f-f22bb45f5d2a"
   },
   "outputs": [
    {
     "data": {
      "text/plain": [
       "(17000, 9)"
      ]
     },
     "execution_count": 32,
     "metadata": {},
     "output_type": "execute_result"
    }
   ],
   "source": [
    "# Возвращает размеры таблицы: кортеж из 2 значений, 1 кол-во строк, 2 - кол-во столбцов\n",
    "df.shape"
   ]
  },
  {
   "cell_type": "markdown",
   "metadata": {
    "id": "ED6ZQk0kdnZZ"
   },
   "source": [
    "\n",
    "\n",
    "```\n",
    "DataFrame.isnull() - обнаруживает пустые значения\n",
    "DataFrame.sum(axis=None, skipna=None, level=None, numeric_only=None, min_count=0, **kwargs) - возвращает сумму значений по выбраной оси\n",
    "Параметры:\n",
    "axis: int {index (0), columns (1)} - ось(0 - вертикальная, 1 - горизонтальная)\n",
    "По умолчанию 0\n",
    "```\n",
    "\n"
   ]
  },
  {
   "cell_type": "code",
   "execution_count": null,
   "metadata": {
    "colab": {
     "base_uri": "https://localhost:8080/"
    },
    "id": "OrB4yQY7akUh",
    "outputId": "e117c1af-0c8d-4ea8-b6c3-1f6cf01ad5f4"
   },
   "outputs": [
    {
     "data": {
      "text/plain": [
       "longitude           0\n",
       "latitude            0\n",
       "housingMedianAge    0\n",
       "totalRooms          0\n",
       "totalBedrooms       0\n",
       "population          0\n",
       "households          0\n",
       "medianIncome        0\n",
       "medianHouseValue    0\n",
       "dtype: int64"
      ]
     },
     "execution_count": 9,
     "metadata": {},
     "output_type": "execute_result"
    }
   ],
   "source": [
    "# Посмотреть есть ли у нас пустые значения\n",
    "# В данном случае пустых значений нет\n",
    "df.isnull().sum()"
   ]
  },
  {
   "cell_type": "code",
   "execution_count": null,
   "metadata": {
    "colab": {
     "base_uri": "https://localhost:8080/"
    },
    "id": "wLwOwLdSa2f6",
    "outputId": "eaeaf5bc-8a32-494e-ea44-392eabeea272"
   },
   "outputs": [
    {
     "data": {
      "text/plain": [
       "longitude           float64\n",
       "latitude            float64\n",
       "housingMedianAge      int64\n",
       "totalRooms            int64\n",
       "totalBedrooms         int64\n",
       "population            int64\n",
       "households            int64\n",
       "medianIncome        float64\n",
       "medianHouseValue      int64\n",
       "dtype: object"
      ]
     },
     "execution_count": 10,
     "metadata": {},
     "output_type": "execute_result"
    }
   ],
   "source": [
    "# Проверить тип данных в столбцах\n",
    "# В данных случаях везде float, число 64 указывает на разрядность(Используется 64 байта для хранения значения в памяти,\n",
    "# чем меньше разрядность, тем меньший диапазон могут принимать числа и тем меньше тратится памяти на хранение.\n",
    "df.dtypes"
   ]
  },
  {
   "cell_type": "code",
   "execution_count": null,
   "metadata": {
    "colab": {
     "base_uri": "https://localhost:8080/"
    },
    "id": "Ne32prWjbmgg",
    "outputId": "3329e980-e310-4a6f-a82c-c4eb9f271d61"
   },
   "outputs": [
    {
     "data": {
      "text/plain": [
       "Index(['longitude', 'latitude', 'housingMedianAge', 'totalRooms',\n",
       "       'totalBedrooms', 'population', 'households', 'medianIncome',\n",
       "       'medianHouseValue'],\n",
       "      dtype='object')"
      ]
     },
     "execution_count": 33,
     "metadata": {},
     "output_type": "execute_result"
    }
   ],
   "source": [
    "# Посмотреть все столбцы\n",
    "# Возвращает список со строками строк - названиями столбцов в таблице\n",
    "df.columns"
   ]
  },
  {
   "cell_type": "markdown",
   "metadata": {
    "id": "Y7ZwxZffb-RF"
   },
   "source": [
    "В данном случае у нас следующие строки:\n",
    "\n",
    "\n",
    "1.   **longitude** - долгота\n",
    "2.   **latitude** - широта\n",
    "3.   **housing_median_age** - медианный возраст зданий\n",
    "4.   **total_rooms** - общее кол-во зданий\n",
    "5.   **total_bedrooms** - Общее кол-во спален\n",
    "5.   **population** - кол-во жителей\n",
    "5.   **households** - кол-во семей\n",
    "5.   **median_house_value** - медианная стоимость дома\n",
    "\n",
    "\n"
   ]
  },
  {
   "cell_type": "markdown",
   "metadata": {
    "id": "rxwej4NLeqRJ"
   },
   "source": [
    "**Медиана набора чисел** — число, которое находится в середине этого набора, если его упорядочить по возрастанию, то есть такое число, что половина из элементов набора не меньше него, а другая половина не больше."
   ]
  },
  {
   "cell_type": "markdown",
   "metadata": {
    "id": "NBLQcKE_ff2N"
   },
   "source": [
    "# Выбор данных"
   ]
  },
  {
   "cell_type": "code",
   "execution_count": null,
   "metadata": {
    "colab": {
     "base_uri": "https://localhost:8080/"
    },
    "id": "VU60yKxxfi0O",
    "outputId": "67dfdef9-82b1-4b07-bc84-f2f41d0f4045"
   },
   "outputs": [
    {
     "data": {
      "text/plain": [
       "0        34.19\n",
       "1        34.40\n",
       "2        33.69\n",
       "3        33.64\n",
       "4        33.57\n",
       "         ...  \n",
       "16995    40.58\n",
       "16996    40.69\n",
       "16997    41.84\n",
       "16998    41.80\n",
       "16999    40.54\n",
       "Name: latitude, Length: 17000, dtype: float64"
      ]
     },
     "execution_count": 34,
     "metadata": {},
     "output_type": "execute_result"
    }
   ],
   "source": [
    "# Выбор 1 столбца - [широты]\n",
    "df['latitude']"
   ]
  },
  {
   "cell_type": "code",
   "execution_count": null,
   "metadata": {
    "colab": {
     "base_uri": "https://localhost:8080/",
     "height": 424
    },
    "id": "tuzsq2X2fpyZ",
    "outputId": "9ab600fd-e545-437d-f7a2-e2f3569e749f"
   },
   "outputs": [
    {
     "data": {
      "text/html": [
       "<div>\n",
       "<style scoped>\n",
       "    .dataframe tbody tr th:only-of-type {\n",
       "        vertical-align: middle;\n",
       "    }\n",
       "\n",
       "    .dataframe tbody tr th {\n",
       "        vertical-align: top;\n",
       "    }\n",
       "\n",
       "    .dataframe thead th {\n",
       "        text-align: right;\n",
       "    }\n",
       "</style>\n",
       "<table border=\"1\" class=\"dataframe\">\n",
       "  <thead>\n",
       "    <tr style=\"text-align: right;\">\n",
       "      <th></th>\n",
       "      <th>latitude</th>\n",
       "      <th>population</th>\n",
       "    </tr>\n",
       "  </thead>\n",
       "  <tbody>\n",
       "    <tr>\n",
       "      <th>0</th>\n",
       "      <td>34.19</td>\n",
       "      <td>1015</td>\n",
       "    </tr>\n",
       "    <tr>\n",
       "      <th>1</th>\n",
       "      <td>34.40</td>\n",
       "      <td>1129</td>\n",
       "    </tr>\n",
       "    <tr>\n",
       "      <th>2</th>\n",
       "      <td>33.69</td>\n",
       "      <td>333</td>\n",
       "    </tr>\n",
       "    <tr>\n",
       "      <th>3</th>\n",
       "      <td>33.64</td>\n",
       "      <td>515</td>\n",
       "    </tr>\n",
       "    <tr>\n",
       "      <th>4</th>\n",
       "      <td>33.57</td>\n",
       "      <td>624</td>\n",
       "    </tr>\n",
       "    <tr>\n",
       "      <th>...</th>\n",
       "      <td>...</td>\n",
       "      <td>...</td>\n",
       "    </tr>\n",
       "    <tr>\n",
       "      <th>16995</th>\n",
       "      <td>40.58</td>\n",
       "      <td>907</td>\n",
       "    </tr>\n",
       "    <tr>\n",
       "      <th>16996</th>\n",
       "      <td>40.69</td>\n",
       "      <td>1194</td>\n",
       "    </tr>\n",
       "    <tr>\n",
       "      <th>16997</th>\n",
       "      <td>41.84</td>\n",
       "      <td>1244</td>\n",
       "    </tr>\n",
       "    <tr>\n",
       "      <th>16998</th>\n",
       "      <td>41.80</td>\n",
       "      <td>1298</td>\n",
       "    </tr>\n",
       "    <tr>\n",
       "      <th>16999</th>\n",
       "      <td>40.54</td>\n",
       "      <td>806</td>\n",
       "    </tr>\n",
       "  </tbody>\n",
       "</table>\n",
       "<p>17000 rows × 2 columns</p>\n",
       "</div>"
      ],
      "text/plain": [
       "       latitude  population\n",
       "0         34.19        1015\n",
       "1         34.40        1129\n",
       "2         33.69         333\n",
       "3         33.64         515\n",
       "4         33.57         624\n",
       "...         ...         ...\n",
       "16995     40.58         907\n",
       "16996     40.69        1194\n",
       "16997     41.84        1244\n",
       "16998     41.80        1298\n",
       "16999     40.54         806\n",
       "\n",
       "[17000 rows x 2 columns]"
      ]
     },
     "execution_count": 13,
     "metadata": {},
     "output_type": "execute_result"
    }
   ],
   "source": [
    "# Выбор нескольких столбцов [широта, кол-во жителей]\n",
    "df[['latitude', 'population']]"
   ]
  },
  {
   "cell_type": "markdown",
   "metadata": {
    "id": "cDzrHP5KiAxi"
   },
   "source": [
    "![image.png](data:image/png;base64,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)"
   ]
  },
  {
   "cell_type": "code",
   "execution_count": null,
   "metadata": {
    "colab": {
     "base_uri": "https://localhost:8080/",
     "height": 424
    },
    "id": "Nb6STwSff3z8",
    "outputId": "8822f496-1b4c-4b84-c98b-c302de73bdad"
   },
   "outputs": [
    {
     "data": {
      "text/html": [
       "<div>\n",
       "<style scoped>\n",
       "    .dataframe tbody tr th:only-of-type {\n",
       "        vertical-align: middle;\n",
       "    }\n",
       "\n",
       "    .dataframe tbody tr th {\n",
       "        vertical-align: top;\n",
       "    }\n",
       "\n",
       "    .dataframe thead th {\n",
       "        text-align: right;\n",
       "    }\n",
       "</style>\n",
       "<table border=\"1\" class=\"dataframe\">\n",
       "  <thead>\n",
       "    <tr style=\"text-align: right;\">\n",
       "      <th></th>\n",
       "      <th>longitude</th>\n",
       "      <th>latitude</th>\n",
       "      <th>housingMedianAge</th>\n",
       "      <th>totalRooms</th>\n",
       "      <th>totalBedrooms</th>\n",
       "      <th>population</th>\n",
       "      <th>households</th>\n",
       "      <th>medianIncome</th>\n",
       "      <th>medianHouseValue</th>\n",
       "    </tr>\n",
       "  </thead>\n",
       "  <tbody>\n",
       "    <tr>\n",
       "      <th>0</th>\n",
       "      <td>-114.31</td>\n",
       "      <td>34.19</td>\n",
       "      <td>15</td>\n",
       "      <td>5612</td>\n",
       "      <td>1283</td>\n",
       "      <td>1015</td>\n",
       "      <td>472</td>\n",
       "      <td>1.4936</td>\n",
       "      <td>66900</td>\n",
       "    </tr>\n",
       "    <tr>\n",
       "      <th>1</th>\n",
       "      <td>-114.47</td>\n",
       "      <td>34.40</td>\n",
       "      <td>19</td>\n",
       "      <td>7650</td>\n",
       "      <td>1901</td>\n",
       "      <td>1129</td>\n",
       "      <td>463</td>\n",
       "      <td>1.8200</td>\n",
       "      <td>80100</td>\n",
       "    </tr>\n",
       "    <tr>\n",
       "      <th>2</th>\n",
       "      <td>-114.56</td>\n",
       "      <td>33.69</td>\n",
       "      <td>17</td>\n",
       "      <td>720</td>\n",
       "      <td>174</td>\n",
       "      <td>333</td>\n",
       "      <td>117</td>\n",
       "      <td>1.6509</td>\n",
       "      <td>85700</td>\n",
       "    </tr>\n",
       "    <tr>\n",
       "      <th>3</th>\n",
       "      <td>-114.57</td>\n",
       "      <td>33.64</td>\n",
       "      <td>14</td>\n",
       "      <td>1501</td>\n",
       "      <td>337</td>\n",
       "      <td>515</td>\n",
       "      <td>226</td>\n",
       "      <td>3.1917</td>\n",
       "      <td>73400</td>\n",
       "    </tr>\n",
       "    <tr>\n",
       "      <th>10</th>\n",
       "      <td>-114.60</td>\n",
       "      <td>33.62</td>\n",
       "      <td>16</td>\n",
       "      <td>3741</td>\n",
       "      <td>801</td>\n",
       "      <td>2434</td>\n",
       "      <td>824</td>\n",
       "      <td>2.6797</td>\n",
       "      <td>86500</td>\n",
       "    </tr>\n",
       "    <tr>\n",
       "      <th>...</th>\n",
       "      <td>...</td>\n",
       "      <td>...</td>\n",
       "      <td>...</td>\n",
       "      <td>...</td>\n",
       "      <td>...</td>\n",
       "      <td>...</td>\n",
       "      <td>...</td>\n",
       "      <td>...</td>\n",
       "      <td>...</td>\n",
       "    </tr>\n",
       "    <tr>\n",
       "      <th>16983</th>\n",
       "      <td>-124.19</td>\n",
       "      <td>41.78</td>\n",
       "      <td>15</td>\n",
       "      <td>3140</td>\n",
       "      <td>714</td>\n",
       "      <td>1645</td>\n",
       "      <td>640</td>\n",
       "      <td>1.6654</td>\n",
       "      <td>74600</td>\n",
       "    </tr>\n",
       "    <tr>\n",
       "      <th>16987</th>\n",
       "      <td>-124.21</td>\n",
       "      <td>41.77</td>\n",
       "      <td>17</td>\n",
       "      <td>3461</td>\n",
       "      <td>722</td>\n",
       "      <td>1947</td>\n",
       "      <td>647</td>\n",
       "      <td>2.5795</td>\n",
       "      <td>68400</td>\n",
       "    </tr>\n",
       "    <tr>\n",
       "      <th>16991</th>\n",
       "      <td>-124.23</td>\n",
       "      <td>41.75</td>\n",
       "      <td>11</td>\n",
       "      <td>3159</td>\n",
       "      <td>616</td>\n",
       "      <td>1343</td>\n",
       "      <td>479</td>\n",
       "      <td>2.4805</td>\n",
       "      <td>73200</td>\n",
       "    </tr>\n",
       "    <tr>\n",
       "      <th>16997</th>\n",
       "      <td>-124.30</td>\n",
       "      <td>41.84</td>\n",
       "      <td>17</td>\n",
       "      <td>2677</td>\n",
       "      <td>531</td>\n",
       "      <td>1244</td>\n",
       "      <td>456</td>\n",
       "      <td>3.0313</td>\n",
       "      <td>103600</td>\n",
       "    </tr>\n",
       "    <tr>\n",
       "      <th>16998</th>\n",
       "      <td>-124.30</td>\n",
       "      <td>41.80</td>\n",
       "      <td>19</td>\n",
       "      <td>2672</td>\n",
       "      <td>552</td>\n",
       "      <td>1298</td>\n",
       "      <td>478</td>\n",
       "      <td>1.9797</td>\n",
       "      <td>85800</td>\n",
       "    </tr>\n",
       "  </tbody>\n",
       "</table>\n",
       "<p>4826 rows × 9 columns</p>\n",
       "</div>"
      ],
      "text/plain": [
       "       longitude  latitude  housingMedianAge  totalRooms  totalBedrooms  \\\n",
       "0        -114.31     34.19                15        5612           1283   \n",
       "1        -114.47     34.40                19        7650           1901   \n",
       "2        -114.56     33.69                17         720            174   \n",
       "3        -114.57     33.64                14        1501            337   \n",
       "10       -114.60     33.62                16        3741            801   \n",
       "...          ...       ...               ...         ...            ...   \n",
       "16983    -124.19     41.78                15        3140            714   \n",
       "16987    -124.21     41.77                17        3461            722   \n",
       "16991    -124.23     41.75                11        3159            616   \n",
       "16997    -124.30     41.84                17        2677            531   \n",
       "16998    -124.30     41.80                19        2672            552   \n",
       "\n",
       "       population  households  medianIncome  medianHouseValue  \n",
       "0            1015         472        1.4936             66900  \n",
       "1            1129         463        1.8200             80100  \n",
       "2             333         117        1.6509             85700  \n",
       "3             515         226        3.1917             73400  \n",
       "10           2434         824        2.6797             86500  \n",
       "...           ...         ...           ...               ...  \n",
       "16983        1645         640        1.6654             74600  \n",
       "16987        1947         647        2.5795             68400  \n",
       "16991        1343         479        2.4805             73200  \n",
       "16997        1244         456        3.0313            103600  \n",
       "16998        1298         478        1.9797             85800  \n",
       "\n",
       "[4826 rows x 9 columns]"
      ]
     },
     "execution_count": 35,
     "metadata": {},
     "output_type": "execute_result"
    }
   ],
   "source": [
    "# Выбор определенного кол-ва рядов\n",
    "# Синтаксис df[df[col] !=|==|>|<| значение]\n",
    "df[df['housingMedianAge'] < 20]"
   ]
  },
  {
   "cell_type": "markdown",
   "metadata": {
    "id": "V7cd8n47iezF"
   },
   "source": [
    "![image.png](data:image/png;base64,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)"
   ]
  },
  {
   "cell_type": "code",
   "execution_count": null,
   "metadata": {
    "colab": {
     "base_uri": "https://localhost:8080/",
     "height": 424
    },
    "id": "sWftHHBZ_Dgg",
    "outputId": "e2bb1d40-e2e2-4da4-9b4b-e7d29b9718db"
   },
   "outputs": [
    {
     "data": {
      "text/html": [
       "<div>\n",
       "<style scoped>\n",
       "    .dataframe tbody tr th:only-of-type {\n",
       "        vertical-align: middle;\n",
       "    }\n",
       "\n",
       "    .dataframe tbody tr th {\n",
       "        vertical-align: top;\n",
       "    }\n",
       "\n",
       "    .dataframe thead th {\n",
       "        text-align: right;\n",
       "    }\n",
       "</style>\n",
       "<table border=\"1\" class=\"dataframe\">\n",
       "  <thead>\n",
       "    <tr style=\"text-align: right;\">\n",
       "      <th></th>\n",
       "      <th>longitude</th>\n",
       "      <th>latitude</th>\n",
       "      <th>housingMedianAge</th>\n",
       "      <th>totalRooms</th>\n",
       "      <th>totalBedrooms</th>\n",
       "      <th>population</th>\n",
       "      <th>households</th>\n",
       "      <th>medianIncome</th>\n",
       "      <th>medianHouseValue</th>\n",
       "    </tr>\n",
       "  </thead>\n",
       "  <tbody>\n",
       "    <tr>\n",
       "      <th>6</th>\n",
       "      <td>-114.58</td>\n",
       "      <td>33.61</td>\n",
       "      <td>25</td>\n",
       "      <td>2907</td>\n",
       "      <td>680</td>\n",
       "      <td>1841</td>\n",
       "      <td>633</td>\n",
       "      <td>2.6768</td>\n",
       "      <td>82400</td>\n",
       "    </tr>\n",
       "    <tr>\n",
       "      <th>8</th>\n",
       "      <td>-114.59</td>\n",
       "      <td>33.61</td>\n",
       "      <td>34</td>\n",
       "      <td>4789</td>\n",
       "      <td>1175</td>\n",
       "      <td>3134</td>\n",
       "      <td>1056</td>\n",
       "      <td>2.1782</td>\n",
       "      <td>58400</td>\n",
       "    </tr>\n",
       "    <tr>\n",
       "      <th>13</th>\n",
       "      <td>-114.61</td>\n",
       "      <td>34.83</td>\n",
       "      <td>31</td>\n",
       "      <td>2478</td>\n",
       "      <td>464</td>\n",
       "      <td>1346</td>\n",
       "      <td>479</td>\n",
       "      <td>3.2120</td>\n",
       "      <td>70400</td>\n",
       "    </tr>\n",
       "    <tr>\n",
       "      <th>42</th>\n",
       "      <td>-115.49</td>\n",
       "      <td>32.67</td>\n",
       "      <td>25</td>\n",
       "      <td>2322</td>\n",
       "      <td>573</td>\n",
       "      <td>2185</td>\n",
       "      <td>602</td>\n",
       "      <td>1.3750</td>\n",
       "      <td>70100</td>\n",
       "    </tr>\n",
       "    <tr>\n",
       "      <th>45</th>\n",
       "      <td>-115.50</td>\n",
       "      <td>32.67</td>\n",
       "      <td>35</td>\n",
       "      <td>2159</td>\n",
       "      <td>492</td>\n",
       "      <td>1694</td>\n",
       "      <td>475</td>\n",
       "      <td>2.1776</td>\n",
       "      <td>75500</td>\n",
       "    </tr>\n",
       "    <tr>\n",
       "      <th>...</th>\n",
       "      <td>...</td>\n",
       "      <td>...</td>\n",
       "      <td>...</td>\n",
       "      <td>...</td>\n",
       "      <td>...</td>\n",
       "      <td>...</td>\n",
       "      <td>...</td>\n",
       "      <td>...</td>\n",
       "      <td>...</td>\n",
       "    </tr>\n",
       "    <tr>\n",
       "      <th>16986</th>\n",
       "      <td>-124.19</td>\n",
       "      <td>40.73</td>\n",
       "      <td>21</td>\n",
       "      <td>5694</td>\n",
       "      <td>1056</td>\n",
       "      <td>2907</td>\n",
       "      <td>972</td>\n",
       "      <td>3.5363</td>\n",
       "      <td>90100</td>\n",
       "    </tr>\n",
       "    <tr>\n",
       "      <th>16990</th>\n",
       "      <td>-124.22</td>\n",
       "      <td>41.73</td>\n",
       "      <td>28</td>\n",
       "      <td>3003</td>\n",
       "      <td>699</td>\n",
       "      <td>1530</td>\n",
       "      <td>653</td>\n",
       "      <td>1.7038</td>\n",
       "      <td>78300</td>\n",
       "    </tr>\n",
       "    <tr>\n",
       "      <th>16993</th>\n",
       "      <td>-124.23</td>\n",
       "      <td>40.54</td>\n",
       "      <td>52</td>\n",
       "      <td>2694</td>\n",
       "      <td>453</td>\n",
       "      <td>1152</td>\n",
       "      <td>435</td>\n",
       "      <td>3.0806</td>\n",
       "      <td>106700</td>\n",
       "    </tr>\n",
       "    <tr>\n",
       "      <th>16995</th>\n",
       "      <td>-124.26</td>\n",
       "      <td>40.58</td>\n",
       "      <td>52</td>\n",
       "      <td>2217</td>\n",
       "      <td>394</td>\n",
       "      <td>907</td>\n",
       "      <td>369</td>\n",
       "      <td>2.3571</td>\n",
       "      <td>111400</td>\n",
       "    </tr>\n",
       "    <tr>\n",
       "      <th>16996</th>\n",
       "      <td>-124.27</td>\n",
       "      <td>40.69</td>\n",
       "      <td>36</td>\n",
       "      <td>2349</td>\n",
       "      <td>528</td>\n",
       "      <td>1194</td>\n",
       "      <td>465</td>\n",
       "      <td>2.5179</td>\n",
       "      <td>79000</td>\n",
       "    </tr>\n",
       "  </tbody>\n",
       "</table>\n",
       "<p>5624 rows × 9 columns</p>\n",
       "</div>"
      ],
      "text/plain": [
       "       longitude  latitude  housingMedianAge  totalRooms  totalBedrooms  \\\n",
       "6        -114.58     33.61                25        2907            680   \n",
       "8        -114.59     33.61                34        4789           1175   \n",
       "13       -114.61     34.83                31        2478            464   \n",
       "42       -115.49     32.67                25        2322            573   \n",
       "45       -115.50     32.67                35        2159            492   \n",
       "...          ...       ...               ...         ...            ...   \n",
       "16986    -124.19     40.73                21        5694           1056   \n",
       "16990    -124.22     41.73                28        3003            699   \n",
       "16993    -124.23     40.54                52        2694            453   \n",
       "16995    -124.26     40.58                52        2217            394   \n",
       "16996    -124.27     40.69                36        2349            528   \n",
       "\n",
       "       population  households  medianIncome  medianHouseValue  \n",
       "6            1841         633        2.6768             82400  \n",
       "8            3134        1056        2.1782             58400  \n",
       "13           1346         479        3.2120             70400  \n",
       "42           2185         602        1.3750             70100  \n",
       "45           1694         475        2.1776             75500  \n",
       "...           ...         ...           ...               ...  \n",
       "16986        2907         972        3.5363             90100  \n",
       "16990        1530         653        1.7038             78300  \n",
       "16993        1152         435        3.0806            106700  \n",
       "16995         907         369        2.3571            111400  \n",
       "16996        1194         465        2.5179             79000  \n",
       "\n",
       "[5624 rows x 9 columns]"
      ]
     },
     "execution_count": 16,
     "metadata": {},
     "output_type": "execute_result"
    }
   ],
   "source": [
    "# Для отбора можно использовать несколько условий одновременно\n",
    "# Знак & означает 'and', а знак | 'or'\n",
    "df[(df['housingMedianAge'] > 20) & (df['totalRooms'] > 2000)]"
   ]
  },
  {
   "cell_type": "code",
   "execution_count": null,
   "metadata": {
    "colab": {
     "base_uri": "https://localhost:8080/",
     "height": 424
    },
    "id": "cAhBaALn_mrP",
    "outputId": "ef960c0c-b554-4ecc-a86e-cf3bc29d7c26"
   },
   "outputs": [
    {
     "data": {
      "text/html": [
       "<div>\n",
       "<style scoped>\n",
       "    .dataframe tbody tr th:only-of-type {\n",
       "        vertical-align: middle;\n",
       "    }\n",
       "\n",
       "    .dataframe tbody tr th {\n",
       "        vertical-align: top;\n",
       "    }\n",
       "\n",
       "    .dataframe thead th {\n",
       "        text-align: right;\n",
       "    }\n",
       "</style>\n",
       "<table border=\"1\" class=\"dataframe\">\n",
       "  <thead>\n",
       "    <tr style=\"text-align: right;\">\n",
       "      <th></th>\n",
       "      <th>longitude</th>\n",
       "      <th>latitude</th>\n",
       "      <th>housingMedianAge</th>\n",
       "      <th>totalRooms</th>\n",
       "      <th>totalBedrooms</th>\n",
       "      <th>population</th>\n",
       "      <th>households</th>\n",
       "      <th>medianIncome</th>\n",
       "      <th>medianHouseValue</th>\n",
       "    </tr>\n",
       "  </thead>\n",
       "  <tbody>\n",
       "    <tr>\n",
       "      <th>0</th>\n",
       "      <td>-114.31</td>\n",
       "      <td>34.19</td>\n",
       "      <td>15</td>\n",
       "      <td>5612</td>\n",
       "      <td>1283</td>\n",
       "      <td>1015</td>\n",
       "      <td>472</td>\n",
       "      <td>1.4936</td>\n",
       "      <td>66900</td>\n",
       "    </tr>\n",
       "    <tr>\n",
       "      <th>1</th>\n",
       "      <td>-114.47</td>\n",
       "      <td>34.40</td>\n",
       "      <td>19</td>\n",
       "      <td>7650</td>\n",
       "      <td>1901</td>\n",
       "      <td>1129</td>\n",
       "      <td>463</td>\n",
       "      <td>1.8200</td>\n",
       "      <td>80100</td>\n",
       "    </tr>\n",
       "    <tr>\n",
       "      <th>5</th>\n",
       "      <td>-114.58</td>\n",
       "      <td>33.63</td>\n",
       "      <td>29</td>\n",
       "      <td>1387</td>\n",
       "      <td>236</td>\n",
       "      <td>671</td>\n",
       "      <td>239</td>\n",
       "      <td>3.3438</td>\n",
       "      <td>74000</td>\n",
       "    </tr>\n",
       "    <tr>\n",
       "      <th>6</th>\n",
       "      <td>-114.58</td>\n",
       "      <td>33.61</td>\n",
       "      <td>25</td>\n",
       "      <td>2907</td>\n",
       "      <td>680</td>\n",
       "      <td>1841</td>\n",
       "      <td>633</td>\n",
       "      <td>2.6768</td>\n",
       "      <td>82400</td>\n",
       "    </tr>\n",
       "    <tr>\n",
       "      <th>7</th>\n",
       "      <td>-114.59</td>\n",
       "      <td>34.83</td>\n",
       "      <td>41</td>\n",
       "      <td>812</td>\n",
       "      <td>168</td>\n",
       "      <td>375</td>\n",
       "      <td>158</td>\n",
       "      <td>1.7083</td>\n",
       "      <td>48500</td>\n",
       "    </tr>\n",
       "    <tr>\n",
       "      <th>...</th>\n",
       "      <td>...</td>\n",
       "      <td>...</td>\n",
       "      <td>...</td>\n",
       "      <td>...</td>\n",
       "      <td>...</td>\n",
       "      <td>...</td>\n",
       "      <td>...</td>\n",
       "      <td>...</td>\n",
       "      <td>...</td>\n",
       "    </tr>\n",
       "    <tr>\n",
       "      <th>16995</th>\n",
       "      <td>-124.26</td>\n",
       "      <td>40.58</td>\n",
       "      <td>52</td>\n",
       "      <td>2217</td>\n",
       "      <td>394</td>\n",
       "      <td>907</td>\n",
       "      <td>369</td>\n",
       "      <td>2.3571</td>\n",
       "      <td>111400</td>\n",
       "    </tr>\n",
       "    <tr>\n",
       "      <th>16996</th>\n",
       "      <td>-124.27</td>\n",
       "      <td>40.69</td>\n",
       "      <td>36</td>\n",
       "      <td>2349</td>\n",
       "      <td>528</td>\n",
       "      <td>1194</td>\n",
       "      <td>465</td>\n",
       "      <td>2.5179</td>\n",
       "      <td>79000</td>\n",
       "    </tr>\n",
       "    <tr>\n",
       "      <th>16997</th>\n",
       "      <td>-124.30</td>\n",
       "      <td>41.84</td>\n",
       "      <td>17</td>\n",
       "      <td>2677</td>\n",
       "      <td>531</td>\n",
       "      <td>1244</td>\n",
       "      <td>456</td>\n",
       "      <td>3.0313</td>\n",
       "      <td>103600</td>\n",
       "    </tr>\n",
       "    <tr>\n",
       "      <th>16998</th>\n",
       "      <td>-124.30</td>\n",
       "      <td>41.80</td>\n",
       "      <td>19</td>\n",
       "      <td>2672</td>\n",
       "      <td>552</td>\n",
       "      <td>1298</td>\n",
       "      <td>478</td>\n",
       "      <td>1.9797</td>\n",
       "      <td>85800</td>\n",
       "    </tr>\n",
       "    <tr>\n",
       "      <th>16999</th>\n",
       "      <td>-124.35</td>\n",
       "      <td>40.54</td>\n",
       "      <td>52</td>\n",
       "      <td>1820</td>\n",
       "      <td>300</td>\n",
       "      <td>806</td>\n",
       "      <td>270</td>\n",
       "      <td>3.0147</td>\n",
       "      <td>94600</td>\n",
       "    </tr>\n",
       "  </tbody>\n",
       "</table>\n",
       "<p>15409 rows × 9 columns</p>\n",
       "</div>"
      ],
      "text/plain": [
       "       longitude  latitude  housingMedianAge  totalRooms  totalBedrooms  \\\n",
       "0        -114.31     34.19                15        5612           1283   \n",
       "1        -114.47     34.40                19        7650           1901   \n",
       "5        -114.58     33.63                29        1387            236   \n",
       "6        -114.58     33.61                25        2907            680   \n",
       "7        -114.59     34.83                41         812            168   \n",
       "...          ...       ...               ...         ...            ...   \n",
       "16995    -124.26     40.58                52        2217            394   \n",
       "16996    -124.27     40.69                36        2349            528   \n",
       "16997    -124.30     41.84                17        2677            531   \n",
       "16998    -124.30     41.80                19        2672            552   \n",
       "16999    -124.35     40.54                52        1820            300   \n",
       "\n",
       "       population  households  medianIncome  medianHouseValue  \n",
       "0            1015         472        1.4936             66900  \n",
       "1            1129         463        1.8200             80100  \n",
       "5             671         239        3.3438             74000  \n",
       "6            1841         633        2.6768             82400  \n",
       "7             375         158        1.7083             48500  \n",
       "...           ...         ...           ...               ...  \n",
       "16995         907         369        2.3571            111400  \n",
       "16996        1194         465        2.5179             79000  \n",
       "16997        1244         456        3.0313            103600  \n",
       "16998        1298         478        1.9797             85800  \n",
       "16999         806         270        3.0147             94600  \n",
       "\n",
       "[15409 rows x 9 columns]"
      ]
     },
     "execution_count": 17,
     "metadata": {},
     "output_type": "execute_result"
    }
   ],
   "source": [
    "df[(df['housingMedianAge'] > 20) | (df['totalRooms'] > 2000)]"
   ]
  },
  {
   "cell_type": "code",
   "execution_count": null,
   "metadata": {
    "colab": {
     "base_uri": "https://localhost:8080/",
     "height": 1000
    },
    "id": "NMmYys37gh2I",
    "outputId": "e1748223-7d4a-4fbf-9f6a-953f92b05afe"
   },
   "outputs": [
    {
     "data": {
      "text/html": [
       "<div>\n",
       "<style scoped>\n",
       "    .dataframe tbody tr th:only-of-type {\n",
       "        vertical-align: middle;\n",
       "    }\n",
       "\n",
       "    .dataframe tbody tr th {\n",
       "        vertical-align: top;\n",
       "    }\n",
       "\n",
       "    .dataframe thead th {\n",
       "        text-align: right;\n",
       "    }\n",
       "</style>\n",
       "<table border=\"1\" class=\"dataframe\">\n",
       "  <thead>\n",
       "    <tr style=\"text-align: right;\">\n",
       "      <th></th>\n",
       "      <th>population</th>\n",
       "      <th>totalBedrooms</th>\n",
       "      <th>totalRooms</th>\n",
       "    </tr>\n",
       "  </thead>\n",
       "  <tbody>\n",
       "    <tr>\n",
       "      <th>17</th>\n",
       "      <td>64</td>\n",
       "      <td>33</td>\n",
       "      <td>44</td>\n",
       "    </tr>\n",
       "    <tr>\n",
       "      <th>19</th>\n",
       "      <td>29</td>\n",
       "      <td>24</td>\n",
       "      <td>97</td>\n",
       "    </tr>\n",
       "    <tr>\n",
       "      <th>113</th>\n",
       "      <td>30</td>\n",
       "      <td>18</td>\n",
       "      <td>96</td>\n",
       "    </tr>\n",
       "    <tr>\n",
       "      <th>116</th>\n",
       "      <td>51</td>\n",
       "      <td>49</td>\n",
       "      <td>208</td>\n",
       "    </tr>\n",
       "    <tr>\n",
       "      <th>120</th>\n",
       "      <td>41</td>\n",
       "      <td>43</td>\n",
       "      <td>186</td>\n",
       "    </tr>\n",
       "    <tr>\n",
       "      <th>...</th>\n",
       "      <td>...</td>\n",
       "      <td>...</td>\n",
       "      <td>...</td>\n",
       "    </tr>\n",
       "    <tr>\n",
       "      <th>16643</th>\n",
       "      <td>85</td>\n",
       "      <td>73</td>\n",
       "      <td>255</td>\n",
       "    </tr>\n",
       "    <tr>\n",
       "      <th>16733</th>\n",
       "      <td>26</td>\n",
       "      <td>114</td>\n",
       "      <td>411</td>\n",
       "    </tr>\n",
       "    <tr>\n",
       "      <th>16743</th>\n",
       "      <td>86</td>\n",
       "      <td>18</td>\n",
       "      <td>89</td>\n",
       "    </tr>\n",
       "    <tr>\n",
       "      <th>16801</th>\n",
       "      <td>18</td>\n",
       "      <td>28</td>\n",
       "      <td>98</td>\n",
       "    </tr>\n",
       "    <tr>\n",
       "      <th>16851</th>\n",
       "      <td>87</td>\n",
       "      <td>35</td>\n",
       "      <td>133</td>\n",
       "    </tr>\n",
       "  </tbody>\n",
       "</table>\n",
       "<p>178 rows × 3 columns</p>\n",
       "</div>"
      ],
      "text/plain": [
       "       population  totalBedrooms  totalRooms\n",
       "17             64             33          44\n",
       "19             29             24          97\n",
       "113            30             18          96\n",
       "116            51             49         208\n",
       "120            41             43         186\n",
       "...           ...            ...         ...\n",
       "16643          85             73         255\n",
       "16733          26            114         411\n",
       "16743          86             18          89\n",
       "16801          18             28          98\n",
       "16851          87             35         133\n",
       "\n",
       "[178 rows x 3 columns]"
      ]
     },
     "execution_count": 40,
     "metadata": {},
     "output_type": "execute_result"
    }
   ],
   "source": [
    "# Выбор определенного кол-ва рядов и столбцов\n",
    "# используется метод loc в [], первый аргумент индекс или селектор, а второй список со столбцами\n",
    "df.loc[df['population'] < 100, ['population','totalBedrooms', 'totalRooms']]"
   ]
  },
  {
   "cell_type": "markdown",
   "metadata": {
    "id": "fd3rO2MMilkZ"
   },
   "source": [
    "![image.png](data:image/png;base64,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)"
   ]
  },
  {
   "cell_type": "markdown",
   "metadata": {
    "id": "jQSCn1QthVYa"
   },
   "source": [
    "# Простая статистика"
   ]
  },
  {
   "cell_type": "markdown",
   "metadata": {
    "id": "wJ6aGcQfhy4Z"
   },
   "source": [
    "**Pandas** позволяет получить основные простые данные для описательной статистики\n",
    "\n",
    "Такие как минимальное значение в столбце, максимальное значение, сумма всех значений, среднее значение"
   ]
  },
  {
   "cell_type": "markdown",
   "metadata": {
    "id": "iyjhBEHFkW5D"
   },
   "source": [
    "![image.png](data:image/png;base64,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)"
   ]
  },
  {
   "cell_type": "code",
   "execution_count": null,
   "metadata": {
    "colab": {
     "base_uri": "https://localhost:8080/"
    },
    "id": "j3e_ovOPgv1m",
    "outputId": "edcaad78-e5e5-4ced-b4b2-a2da8c3127ef"
   },
   "outputs": [
    {
     "name": "stdout",
     "output_type": "stream",
     "text": [
      "35682\n",
      "3\n",
      "1429.5739411764705\n",
      "24302757\n"
     ]
    }
   ],
   "source": [
    "# Максимальное значение\n",
    "print(df['population'].max())\n",
    "# Минимальное значение\n",
    "print(df['population'].min())\n",
    "# Среднее значение\n",
    "print(df['population'].mean())\n",
    "# Сумма\n",
    "print(df['population'].sum())"
   ]
  },
  {
   "cell_type": "code",
   "execution_count": null,
   "metadata": {},
   "outputs": [],
   "source": []
  },
  {
   "cell_type": "markdown",
   "metadata": {
    "id": "4eARzcdbkdPR"
   },
   "source": [
    "Эту же статистику можно рассчитывать сразу для нескольких столбцов"
   ]
  },
  {
   "cell_type": "markdown",
   "metadata": {
    "id": "o42qKCrbknbJ"
   },
   "source": [
    "![image.png](data:image/png;base64,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)"
   ]
  },
  {
   "cell_type": "code",
   "execution_count": null,
   "metadata": {
    "colab": {
     "base_uri": "https://localhost:8080/"
    },
    "id": "OVFt37rHkLNX",
    "outputId": "f86eecad-751a-48ae-d9df-69e1a62fdfe1"
   },
   "outputs": [
    {
     "data": {
      "text/plain": [
       "population    1167.0\n",
       "totalRooms    2127.0\n",
       "dtype: float64"
      ]
     },
     "execution_count": 42,
     "metadata": {},
     "output_type": "execute_result"
    }
   ],
   "source": [
    "# Медианное значение\n",
    "df[['population', 'totalRooms']].median()"
   ]
  },
  {
   "cell_type": "markdown",
   "metadata": {
    "id": "nNVPXzA5k2iQ"
   },
   "source": [
    "Получить общую картину можно простой командой **describe**"
   ]
  },
  {
   "cell_type": "code",
   "execution_count": null,
   "metadata": {
    "colab": {
     "base_uri": "https://localhost:8080/",
     "height": 300
    },
    "id": "gdpMI8tsklef",
    "outputId": "0d4024d7-4784-41ee-d26e-4db497ecea81"
   },
   "outputs": [
    {
     "data": {
      "text/html": [
       "<div>\n",
       "<style scoped>\n",
       "    .dataframe tbody tr th:only-of-type {\n",
       "        vertical-align: middle;\n",
       "    }\n",
       "\n",
       "    .dataframe tbody tr th {\n",
       "        vertical-align: top;\n",
       "    }\n",
       "\n",
       "    .dataframe thead th {\n",
       "        text-align: right;\n",
       "    }\n",
       "</style>\n",
       "<table border=\"1\" class=\"dataframe\">\n",
       "  <thead>\n",
       "    <tr style=\"text-align: right;\">\n",
       "      <th></th>\n",
       "      <th>longitude</th>\n",
       "      <th>latitude</th>\n",
       "      <th>housingMedianAge</th>\n",
       "      <th>totalRooms</th>\n",
       "      <th>totalBedrooms</th>\n",
       "      <th>population</th>\n",
       "      <th>households</th>\n",
       "      <th>medianIncome</th>\n",
       "      <th>medianHouseValue</th>\n",
       "    </tr>\n",
       "  </thead>\n",
       "  <tbody>\n",
       "    <tr>\n",
       "      <th>count</th>\n",
       "      <td>17000.000000</td>\n",
       "      <td>17000.000000</td>\n",
       "      <td>17000.000000</td>\n",
       "      <td>17000.000000</td>\n",
       "      <td>17000.000000</td>\n",
       "      <td>17000.000000</td>\n",
       "      <td>17000.000000</td>\n",
       "      <td>17000.000000</td>\n",
       "      <td>17000.000000</td>\n",
       "    </tr>\n",
       "    <tr>\n",
       "      <th>mean</th>\n",
       "      <td>-119.562108</td>\n",
       "      <td>35.625225</td>\n",
       "      <td>28.589353</td>\n",
       "      <td>2643.664412</td>\n",
       "      <td>539.410824</td>\n",
       "      <td>1429.573941</td>\n",
       "      <td>501.221941</td>\n",
       "      <td>3.883578</td>\n",
       "      <td>207300.912353</td>\n",
       "    </tr>\n",
       "    <tr>\n",
       "      <th>std</th>\n",
       "      <td>2.005166</td>\n",
       "      <td>2.137340</td>\n",
       "      <td>12.586937</td>\n",
       "      <td>2179.947071</td>\n",
       "      <td>421.499452</td>\n",
       "      <td>1147.852959</td>\n",
       "      <td>384.520841</td>\n",
       "      <td>1.908157</td>\n",
       "      <td>115983.764387</td>\n",
       "    </tr>\n",
       "    <tr>\n",
       "      <th>min</th>\n",
       "      <td>-124.350000</td>\n",
       "      <td>32.540000</td>\n",
       "      <td>1.000000</td>\n",
       "      <td>2.000000</td>\n",
       "      <td>1.000000</td>\n",
       "      <td>3.000000</td>\n",
       "      <td>1.000000</td>\n",
       "      <td>0.499900</td>\n",
       "      <td>14999.000000</td>\n",
       "    </tr>\n",
       "    <tr>\n",
       "      <th>25%</th>\n",
       "      <td>-121.790000</td>\n",
       "      <td>33.930000</td>\n",
       "      <td>18.000000</td>\n",
       "      <td>1462.000000</td>\n",
       "      <td>297.000000</td>\n",
       "      <td>790.000000</td>\n",
       "      <td>282.000000</td>\n",
       "      <td>2.566375</td>\n",
       "      <td>119400.000000</td>\n",
       "    </tr>\n",
       "    <tr>\n",
       "      <th>50%</th>\n",
       "      <td>-118.490000</td>\n",
       "      <td>34.250000</td>\n",
       "      <td>29.000000</td>\n",
       "      <td>2127.000000</td>\n",
       "      <td>434.000000</td>\n",
       "      <td>1167.000000</td>\n",
       "      <td>409.000000</td>\n",
       "      <td>3.544600</td>\n",
       "      <td>180400.000000</td>\n",
       "    </tr>\n",
       "    <tr>\n",
       "      <th>75%</th>\n",
       "      <td>-118.000000</td>\n",
       "      <td>37.720000</td>\n",
       "      <td>37.000000</td>\n",
       "      <td>3151.250000</td>\n",
       "      <td>648.250000</td>\n",
       "      <td>1721.000000</td>\n",
       "      <td>605.250000</td>\n",
       "      <td>4.767000</td>\n",
       "      <td>265000.000000</td>\n",
       "    </tr>\n",
       "    <tr>\n",
       "      <th>max</th>\n",
       "      <td>-114.310000</td>\n",
       "      <td>41.950000</td>\n",
       "      <td>52.000000</td>\n",
       "      <td>37937.000000</td>\n",
       "      <td>6445.000000</td>\n",
       "      <td>35682.000000</td>\n",
       "      <td>6082.000000</td>\n",
       "      <td>15.000100</td>\n",
       "      <td>500001.000000</td>\n",
       "    </tr>\n",
       "  </tbody>\n",
       "</table>\n",
       "</div>"
      ],
      "text/plain": [
       "          longitude      latitude  housingMedianAge    totalRooms  \\\n",
       "count  17000.000000  17000.000000      17000.000000  17000.000000   \n",
       "mean    -119.562108     35.625225         28.589353   2643.664412   \n",
       "std        2.005166      2.137340         12.586937   2179.947071   \n",
       "min     -124.350000     32.540000          1.000000      2.000000   \n",
       "25%     -121.790000     33.930000         18.000000   1462.000000   \n",
       "50%     -118.490000     34.250000         29.000000   2127.000000   \n",
       "75%     -118.000000     37.720000         37.000000   3151.250000   \n",
       "max     -114.310000     41.950000         52.000000  37937.000000   \n",
       "\n",
       "       totalBedrooms    population    households  medianIncome  \\\n",
       "count   17000.000000  17000.000000  17000.000000  17000.000000   \n",
       "mean      539.410824   1429.573941    501.221941      3.883578   \n",
       "std       421.499452   1147.852959    384.520841      1.908157   \n",
       "min         1.000000      3.000000      1.000000      0.499900   \n",
       "25%       297.000000    790.000000    282.000000      2.566375   \n",
       "50%       434.000000   1167.000000    409.000000      3.544600   \n",
       "75%       648.250000   1721.000000    605.250000      4.767000   \n",
       "max      6445.000000  35682.000000   6082.000000     15.000100   \n",
       "\n",
       "       medianHouseValue  \n",
       "count      17000.000000  \n",
       "mean      207300.912353  \n",
       "std       115983.764387  \n",
       "min        14999.000000  \n",
       "25%       119400.000000  \n",
       "50%       180400.000000  \n",
       "75%       265000.000000  \n",
       "max       500001.000000  "
      ]
     },
     "execution_count": 43,
     "metadata": {},
     "output_type": "execute_result"
    }
   ],
   "source": [
    "df.describe()"
   ]
  },
  {
   "cell_type": "markdown",
   "metadata": {
    "id": "QHELVEIBhOP2"
   },
   "source": [
    "**count** - Общее кол-во не пустых строк\n",
    "\n",
    "**mean** - среднее значение в столбце\n",
    "\n",
    "**std** -  стандартное отклонение от среднего значения\n",
    "\n",
    "**min** - минимальное значение\n",
    "\n",
    "**max** - максимальное значение\n",
    "\n",
    "Числа **25%, 50%, 75%** - перцентили\n",
    "\n",
    "> **Перцентиль** - это показатель, используемый в статистике, показывающий значение, ниже которого падает определенный процент наблюдений в группе наблюдений\n",
    "\n"
   ]
  },
  {
   "attachments": {},
   "cell_type": "markdown",
   "metadata": {
    "id": "o6VM2sQQsDmL"
   },
   "source": [
    "# Домашняя Работа !!\n",
    "# Работаем только с файлом california_housing_test.csv \n",
    "1)Прочесть с помощью pandas файл california_housing_test.csv \n",
    "\n",
    "2)Посмотреть сколько в нем строк и столбцов\n",
    "\n",
    "3)Определить какой тип данных имеют столбцы\n",
    "\n",
    "4)Показать longitude где housing_median_age < 35\n",
    "\n",
    "5)Показать столбцы longitude и latitude\n",
    "\n",
    "\n",
    "  6)Выбрать данные где total_rooms < 2000 и population > 1500\n",
    "7)Определить какое максимальное и минимальное значение **population**\n",
    "\n",
    "8)(Доп) Показать максимальное **longitude**, где **median_income** > 3\n",
    "\n",
    "9)(Доп) Узнать какая максимальная **total_bedrooms** при минимальном значении **households**\n",
    "\n",
    "\n"
   ]
  },
  {
   "cell_type": "code",
   "execution_count": 6,
   "metadata": {},
   "outputs": [],
   "source": [
    "#1)Прочесть с помощью pandas файл california_housing_test.csv \n",
    "de = pd.read_csv('california_housing_test.csv')"
   ]
  },
  {
   "cell_type": "code",
   "execution_count": 7,
   "metadata": {},
   "outputs": [
    {
     "data": {
      "text/plain": [
       "(3402, 9)"
      ]
     },
     "execution_count": 7,
     "metadata": {},
     "output_type": "execute_result"
    }
   ],
   "source": [
    "#2)Посмотреть сколько в нем строк и столбцов\n",
    "de.shape"
   ]
  },
  {
   "cell_type": "code",
   "execution_count": 8,
   "metadata": {},
   "outputs": [
    {
     "data": {
      "text/plain": [
       "Unnamed: 0              int64\n",
       "longitude             float64\n",
       "latitude              float64\n",
       "housing_median_age      int64\n",
       "total_rooms             int64\n",
       "total_bedrooms          int64\n",
       "population              int64\n",
       "households              int64\n",
       "median_income         float64\n",
       "dtype: object"
      ]
     },
     "execution_count": 8,
     "metadata": {},
     "output_type": "execute_result"
    }
   ],
   "source": [
    "#3)Определить какой тип данных имеют столбцы\n",
    "de.dtypes"
   ]
  },
  {
   "cell_type": "code",
   "execution_count": 11,
   "metadata": {},
   "outputs": [
    {
     "data": {
      "text/html": [
       "<div>\n",
       "<style scoped>\n",
       "    .dataframe tbody tr th:only-of-type {\n",
       "        vertical-align: middle;\n",
       "    }\n",
       "\n",
       "    .dataframe tbody tr th {\n",
       "        vertical-align: top;\n",
       "    }\n",
       "\n",
       "    .dataframe thead th {\n",
       "        text-align: right;\n",
       "    }\n",
       "</style>\n",
       "<table border=\"1\" class=\"dataframe\">\n",
       "  <thead>\n",
       "    <tr style=\"text-align: right;\">\n",
       "      <th></th>\n",
       "      <th>longitude</th>\n",
       "    </tr>\n",
       "  </thead>\n",
       "  <tbody>\n",
       "    <tr>\n",
       "      <th>0</th>\n",
       "      <td>-117.66</td>\n",
       "    </tr>\n",
       "    <tr>\n",
       "      <th>1</th>\n",
       "      <td>-117.07</td>\n",
       "    </tr>\n",
       "    <tr>\n",
       "      <th>2</th>\n",
       "      <td>-117.91</td>\n",
       "    </tr>\n",
       "    <tr>\n",
       "      <th>3</th>\n",
       "      <td>-117.19</td>\n",
       "    </tr>\n",
       "    <tr>\n",
       "      <th>4</th>\n",
       "      <td>-119.58</td>\n",
       "    </tr>\n",
       "    <tr>\n",
       "      <th>...</th>\n",
       "      <td>...</td>\n",
       "    </tr>\n",
       "    <tr>\n",
       "      <th>3392</th>\n",
       "      <td>-122.10</td>\n",
       "    </tr>\n",
       "    <tr>\n",
       "      <th>3393</th>\n",
       "      <td>-117.52</td>\n",
       "    </tr>\n",
       "    <tr>\n",
       "      <th>3395</th>\n",
       "      <td>-117.01</td>\n",
       "    </tr>\n",
       "    <tr>\n",
       "      <th>3398</th>\n",
       "      <td>-117.88</td>\n",
       "    </tr>\n",
       "    <tr>\n",
       "      <th>3399</th>\n",
       "      <td>-118.32</td>\n",
       "    </tr>\n",
       "  </tbody>\n",
       "</table>\n",
       "<p>2216 rows × 1 columns</p>\n",
       "</div>"
      ],
      "text/plain": [
       "      longitude\n",
       "0       -117.66\n",
       "1       -117.07\n",
       "2       -117.91\n",
       "3       -117.19\n",
       "4       -119.58\n",
       "...         ...\n",
       "3392    -122.10\n",
       "3393    -117.52\n",
       "3395    -117.01\n",
       "3398    -117.88\n",
       "3399    -118.32\n",
       "\n",
       "[2216 rows x 1 columns]"
      ]
     },
     "execution_count": 11,
     "metadata": {},
     "output_type": "execute_result"
    }
   ],
   "source": [
    "#4)Показать longitude где housing_median_age < 35\n",
    "de.loc[de['housing_median_age'] < 35, ['longitude']]\n"
   ]
  },
  {
   "cell_type": "code",
   "execution_count": 12,
   "metadata": {},
   "outputs": [
    {
     "data": {
      "text/html": [
       "<div>\n",
       "<style scoped>\n",
       "    .dataframe tbody tr th:only-of-type {\n",
       "        vertical-align: middle;\n",
       "    }\n",
       "\n",
       "    .dataframe tbody tr th {\n",
       "        vertical-align: top;\n",
       "    }\n",
       "\n",
       "    .dataframe thead th {\n",
       "        text-align: right;\n",
       "    }\n",
       "</style>\n",
       "<table border=\"1\" class=\"dataframe\">\n",
       "  <thead>\n",
       "    <tr style=\"text-align: right;\">\n",
       "      <th></th>\n",
       "      <th>longitude</th>\n",
       "      <th>latitude</th>\n",
       "    </tr>\n",
       "  </thead>\n",
       "  <tbody>\n",
       "    <tr>\n",
       "      <th>0</th>\n",
       "      <td>-117.66</td>\n",
       "      <td>35.60</td>\n",
       "    </tr>\n",
       "    <tr>\n",
       "      <th>1</th>\n",
       "      <td>-117.07</td>\n",
       "      <td>32.71</td>\n",
       "    </tr>\n",
       "    <tr>\n",
       "      <th>2</th>\n",
       "      <td>-117.91</td>\n",
       "      <td>33.61</td>\n",
       "    </tr>\n",
       "    <tr>\n",
       "      <th>3</th>\n",
       "      <td>-117.19</td>\n",
       "      <td>34.05</td>\n",
       "    </tr>\n",
       "    <tr>\n",
       "      <th>4</th>\n",
       "      <td>-119.58</td>\n",
       "      <td>36.83</td>\n",
       "    </tr>\n",
       "    <tr>\n",
       "      <th>...</th>\n",
       "      <td>...</td>\n",
       "      <td>...</td>\n",
       "    </tr>\n",
       "    <tr>\n",
       "      <th>3397</th>\n",
       "      <td>-118.33</td>\n",
       "      <td>34.09</td>\n",
       "    </tr>\n",
       "    <tr>\n",
       "      <th>3398</th>\n",
       "      <td>-117.88</td>\n",
       "      <td>34.09</td>\n",
       "    </tr>\n",
       "    <tr>\n",
       "      <th>3399</th>\n",
       "      <td>-118.32</td>\n",
       "      <td>34.26</td>\n",
       "    </tr>\n",
       "    <tr>\n",
       "      <th>3400</th>\n",
       "      <td>-118.12</td>\n",
       "      <td>33.80</td>\n",
       "    </tr>\n",
       "    <tr>\n",
       "      <th>3401</th>\n",
       "      <td>-118.19</td>\n",
       "      <td>33.78</td>\n",
       "    </tr>\n",
       "  </tbody>\n",
       "</table>\n",
       "<p>3402 rows × 2 columns</p>\n",
       "</div>"
      ],
      "text/plain": [
       "      longitude  latitude\n",
       "0       -117.66     35.60\n",
       "1       -117.07     32.71\n",
       "2       -117.91     33.61\n",
       "3       -117.19     34.05\n",
       "4       -119.58     36.83\n",
       "...         ...       ...\n",
       "3397    -118.33     34.09\n",
       "3398    -117.88     34.09\n",
       "3399    -118.32     34.26\n",
       "3400    -118.12     33.80\n",
       "3401    -118.19     33.78\n",
       "\n",
       "[3402 rows x 2 columns]"
      ]
     },
     "execution_count": 12,
     "metadata": {},
     "output_type": "execute_result"
    }
   ],
   "source": [
    "#5)Показать столбцы longitude и latitude\n",
    "de[['longitude', 'latitude']]\n"
   ]
  },
  {
   "cell_type": "code",
   "execution_count": 14,
   "metadata": {},
   "outputs": [
    {
     "data": {
      "text/html": [
       "<div>\n",
       "<style scoped>\n",
       "    .dataframe tbody tr th:only-of-type {\n",
       "        vertical-align: middle;\n",
       "    }\n",
       "\n",
       "    .dataframe tbody tr th {\n",
       "        vertical-align: top;\n",
       "    }\n",
       "\n",
       "    .dataframe thead th {\n",
       "        text-align: right;\n",
       "    }\n",
       "</style>\n",
       "<table border=\"1\" class=\"dataframe\">\n",
       "  <thead>\n",
       "    <tr style=\"text-align: right;\">\n",
       "      <th></th>\n",
       "      <th>Unnamed: 0</th>\n",
       "      <th>longitude</th>\n",
       "      <th>latitude</th>\n",
       "      <th>housing_median_age</th>\n",
       "      <th>total_rooms</th>\n",
       "      <th>total_bedrooms</th>\n",
       "      <th>population</th>\n",
       "      <th>households</th>\n",
       "      <th>median_income</th>\n",
       "    </tr>\n",
       "  </thead>\n",
       "  <tbody>\n",
       "    <tr>\n",
       "      <th>1</th>\n",
       "      <td>2</td>\n",
       "      <td>-117.07</td>\n",
       "      <td>32.71</td>\n",
       "      <td>26</td>\n",
       "      <td>4151</td>\n",
       "      <td>823</td>\n",
       "      <td>2822</td>\n",
       "      <td>697</td>\n",
       "      <td>2.8372</td>\n",
       "    </tr>\n",
       "    <tr>\n",
       "      <th>4</th>\n",
       "      <td>5</td>\n",
       "      <td>-119.58</td>\n",
       "      <td>36.83</td>\n",
       "      <td>13</td>\n",
       "      <td>6135</td>\n",
       "      <td>863</td>\n",
       "      <td>2473</td>\n",
       "      <td>774</td>\n",
       "      <td>5.4895</td>\n",
       "    </tr>\n",
       "    <tr>\n",
       "      <th>15</th>\n",
       "      <td>16</td>\n",
       "      <td>-120.77</td>\n",
       "      <td>38.38</td>\n",
       "      <td>15</td>\n",
       "      <td>4221</td>\n",
       "      <td>816</td>\n",
       "      <td>1737</td>\n",
       "      <td>743</td>\n",
       "      <td>2.3125</td>\n",
       "    </tr>\n",
       "    <tr>\n",
       "      <th>16</th>\n",
       "      <td>17</td>\n",
       "      <td>-117.07</td>\n",
       "      <td>32.70</td>\n",
       "      <td>14</td>\n",
       "      <td>2763</td>\n",
       "      <td>456</td>\n",
       "      <td>1914</td>\n",
       "      <td>465</td>\n",
       "      <td>4.1645</td>\n",
       "    </tr>\n",
       "    <tr>\n",
       "      <th>19</th>\n",
       "      <td>20</td>\n",
       "      <td>-122.10</td>\n",
       "      <td>38.02</td>\n",
       "      <td>28</td>\n",
       "      <td>4308</td>\n",
       "      <td>824</td>\n",
       "      <td>2086</td>\n",
       "      <td>776</td>\n",
       "      <td>3.6523</td>\n",
       "    </tr>\n",
       "    <tr>\n",
       "      <th>...</th>\n",
       "      <td>...</td>\n",
       "      <td>...</td>\n",
       "      <td>...</td>\n",
       "      <td>...</td>\n",
       "      <td>...</td>\n",
       "      <td>...</td>\n",
       "      <td>...</td>\n",
       "      <td>...</td>\n",
       "      <td>...</td>\n",
       "    </tr>\n",
       "    <tr>\n",
       "      <th>3387</th>\n",
       "      <td>3388</td>\n",
       "      <td>-117.66</td>\n",
       "      <td>33.57</td>\n",
       "      <td>16</td>\n",
       "      <td>4277</td>\n",
       "      <td>565</td>\n",
       "      <td>1642</td>\n",
       "      <td>549</td>\n",
       "      <td>8.0082</td>\n",
       "    </tr>\n",
       "    <tr>\n",
       "      <th>3390</th>\n",
       "      <td>3391</td>\n",
       "      <td>-121.97</td>\n",
       "      <td>37.40</td>\n",
       "      <td>17</td>\n",
       "      <td>2937</td>\n",
       "      <td>558</td>\n",
       "      <td>1662</td>\n",
       "      <td>533</td>\n",
       "      <td>5.8792</td>\n",
       "    </tr>\n",
       "    <tr>\n",
       "      <th>3393</th>\n",
       "      <td>3394</td>\n",
       "      <td>-117.52</td>\n",
       "      <td>33.89</td>\n",
       "      <td>2</td>\n",
       "      <td>17978</td>\n",
       "      <td>3217</td>\n",
       "      <td>7305</td>\n",
       "      <td>2463</td>\n",
       "      <td>5.1695</td>\n",
       "    </tr>\n",
       "    <tr>\n",
       "      <th>3398</th>\n",
       "      <td>3399</td>\n",
       "      <td>-117.88</td>\n",
       "      <td>34.09</td>\n",
       "      <td>29</td>\n",
       "      <td>3416</td>\n",
       "      <td>790</td>\n",
       "      <td>2223</td>\n",
       "      <td>728</td>\n",
       "      <td>3.5109</td>\n",
       "    </tr>\n",
       "    <tr>\n",
       "      <th>3399</th>\n",
       "      <td>3400</td>\n",
       "      <td>-118.32</td>\n",
       "      <td>34.26</td>\n",
       "      <td>32</td>\n",
       "      <td>3690</td>\n",
       "      <td>791</td>\n",
       "      <td>1804</td>\n",
       "      <td>715</td>\n",
       "      <td>4.4875</td>\n",
       "    </tr>\n",
       "  </tbody>\n",
       "</table>\n",
       "<p>999 rows × 9 columns</p>\n",
       "</div>"
      ],
      "text/plain": [
       "      Unnamed: 0  longitude  latitude  housing_median_age  total_rooms  \\\n",
       "1              2    -117.07     32.71                  26         4151   \n",
       "4              5    -119.58     36.83                  13         6135   \n",
       "15            16    -120.77     38.38                  15         4221   \n",
       "16            17    -117.07     32.70                  14         2763   \n",
       "19            20    -122.10     38.02                  28         4308   \n",
       "...          ...        ...       ...                 ...          ...   \n",
       "3387        3388    -117.66     33.57                  16         4277   \n",
       "3390        3391    -121.97     37.40                  17         2937   \n",
       "3393        3394    -117.52     33.89                   2        17978   \n",
       "3398        3399    -117.88     34.09                  29         3416   \n",
       "3399        3400    -118.32     34.26                  32         3690   \n",
       "\n",
       "      total_bedrooms  population  households  median_income  \n",
       "1                823        2822         697         2.8372  \n",
       "4                863        2473         774         5.4895  \n",
       "15               816        1737         743         2.3125  \n",
       "16               456        1914         465         4.1645  \n",
       "19               824        2086         776         3.6523  \n",
       "...              ...         ...         ...            ...  \n",
       "3387             565        1642         549         8.0082  \n",
       "3390             558        1662         533         5.8792  \n",
       "3393            3217        7305        2463         5.1695  \n",
       "3398             790        2223         728         3.5109  \n",
       "3399             791        1804         715         4.4875  \n",
       "\n",
       "[999 rows x 9 columns]"
      ]
     },
     "execution_count": 14,
     "metadata": {},
     "output_type": "execute_result"
    }
   ],
   "source": [
    "#6)Выбрать данные где total_rooms < 2000 и population > 1500\n",
    "de[(de['population'] > 1500) & (de['total_rooms'] > 2000)]"
   ]
  },
  {
   "cell_type": "code",
   "execution_count": 15,
   "metadata": {},
   "outputs": [
    {
     "name": "stdout",
     "output_type": "stream",
     "text": [
      "35682\n",
      "8\n"
     ]
    }
   ],
   "source": [
    "# 7)Определить какое максимальное и минимальное значение **population*\n",
    "print(de['population'].max())\n",
    "\n",
    "print(de['population'].min())\n"
   ]
  }
 ],
 "metadata": {
  "colab": {
   "collapsed_sections": [],
   "name": "семинар 9",
   "provenance": []
  },
  "kernelspec": {
   "display_name": "venv",
   "language": "python",
   "name": "python3"
  },
  "language_info": {
   "codemirror_mode": {
    "name": "ipython",
    "version": 3
   },
   "file_extension": ".py",
   "mimetype": "text/x-python",
   "name": "python",
   "nbconvert_exporter": "python",
   "pygments_lexer": "ipython3",
   "version": "3.10.2"
  },
  "vscode": {
   "interpreter": {
    "hash": "e581d960971054b9a4837ed62587c182cf9358e23522bad2247c9530c42cd484"
   }
  }
 },
 "nbformat": 4,
 "nbformat_minor": 1
}
